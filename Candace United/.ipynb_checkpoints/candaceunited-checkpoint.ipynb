{
 "cells": [
  {
   "cell_type": "code",
   "execution_count": 7,
   "metadata": {},
   "outputs": [],
   "source": [
    "import pandas as pd\n",
    "\n",
    "# Load the excel sheets\n",
    "Sem_1_2023 = pd.ExcelFile('Sem_1_2023.xlsx')\n",
    "Sem_2_2023 = pd.ExcelFile('Sem_2_2023.xlsx')\n",
    "\n",
    "\n",
    "S1_2023_total_df = pd.read_excel(Sem_1_2023, 'Total')\n",
    "S1_2023_game_stats_df = pd.read_excel(Sem_1_2023, 'Game Stats')\n",
    "S1_2023_rankings_df = pd.read_excel(Sem_1_2023, 'Rankings')\n",
    "S1_2023_goalie_stats_df = pd.read_excel(Sem_1_2023, 'Goalie Stats')\n",
    "\n",
    "\n",
    "S2_2023_total_df = pd.read_excel(Sem_2_2023, 'Total')\n",
    "S2_2023_game_stats_df = pd.read_excel(Sem_2_2023, 'Game Stats')\n",
    "S2_2023_rankings_df = pd.read_excel(Sem_2_2023, 'Rankings')"
   ]
  },
  {
   "cell_type": "code",
   "execution_count": null,
   "metadata": {},
   "outputs": [],
   "source": []
  },
  {
   "cell_type": "code",
   "execution_count": null,
   "metadata": {},
   "outputs": [],
   "source": []
  }
 ],
 "metadata": {
  "kernelspec": {
   "display_name": "Python 3",
   "language": "python",
   "name": "python3"
  },
  "language_info": {
   "codemirror_mode": {
    "name": "ipython",
    "version": 3
   },
   "file_extension": ".py",
   "mimetype": "text/x-python",
   "name": "python",
   "nbconvert_exporter": "python",
   "pygments_lexer": "ipython3",
   "version": "3.8.5"
  }
 },
 "nbformat": 4,
 "nbformat_minor": 4
}
