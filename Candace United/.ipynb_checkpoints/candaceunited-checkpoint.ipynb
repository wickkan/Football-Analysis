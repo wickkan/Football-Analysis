{
 "cells": [
  {
   "cell_type": "code",
   "execution_count": 66,
   "metadata": {},
   "outputs": [],
   "source": [
    "import pandas as pd\n",
    "import numpy as np\n",
    "\n",
    "# Load the excel sheets\n",
    "Sem_1_2023 = pd.ExcelFile('Sem_1_2023.xlsx')\n",
    "Sem_2_2023 = pd.ExcelFile('Sem_2_2023.xlsx')\n",
    "\n",
    "\n",
    "S1_2023_total_df = pd.read_excel(Sem_1_2023, 'Total')\n",
    "S1_2023_game_stats_df = pd.read_excel(Sem_1_2023, 'Game Stats')\n",
    "\n",
    "S2_2023_total_df = pd.read_excel(Sem_2_2023, 'Total')\n",
    "S2_2023_game_stats_df = pd.read_excel(Sem_2_2023, 'Game Stats')"
   ]
  },
  {
   "cell_type": "markdown",
   "metadata": {},
   "source": [
    "### Cleaning The Data"
   ]
  },
  {
   "cell_type": "code",
   "execution_count": 67,
   "metadata": {},
   "outputs": [],
   "source": [
    "# Removing unecessary columns\n",
    "\n",
    "S1_2023_total_df = S1_2023_total_df.drop(columns=['Unnamed: 16', 'Matches', 'Goals Against', 'Corners', 'Converted Corners', \n",
    "                           'Corners Against', 'Converted Corners Against', 'Goals Conceded Per Match', \n",
    "                           'Goals Per Match', 'Unnamed: 25', 'TOTALS', 'Unnamed: 27', 'Unnamed: 28', \n",
    "                           'Unnamed: 29', 'Unnamed: 30', 'Unnamed: 31', 'Unnamed: 32'])\n",
    "\n",
    "S1_2023_game_stats_df = S1_2023_game_stats_df.drop(columns=['Unnamed: 15', 'Game.1', 'Goals Against', 'Corners', 'Converted Corners', \n",
    "                                'Corners Against', 'Converted Corners Against'])\n",
    "\n",
    "S2_2023_total_df = S2_2023_total_df.drop(columns=['Mins as Goalie', 'Saves',\n",
    "       'Save %', 'Shots on Target Against', 'Goals Conceded', 'Mins Per Goal',\n",
    "       'Interceptions as Goalie', 'Goalie Error Leading to Goal',\n",
    "       'Unnamed: 29', 'Unnamed: 30', 'Unnamed: 31', 'Unnamed: 32',\n",
    "       'Unnamed: 33'])\n",
    "\n",
    "S2_2023_game_stats_df = S2_2023_game_stats_df.drop(columns=['Unnamed: 20', 'Game.1', 'Goals Against', 'Corners',\n",
    "       'Converted Corners', 'Corners Against', 'Converted Corners Against',\n",
    "       'Unnamed: 27', 'Unnamed: 28', 'Game.2', 'Player.1', 'Mins as Goalie',\n",
    "       'Saves', 'Save %', 'Shots on Target Against', 'Goals Conceded',\n",
    "       'Goals per min', 'Interceptions as Goalie', 'Error leading to goal'])"
   ]
  },
  {
   "cell_type": "markdown",
   "metadata": {},
   "source": [
    "### Season Totals Analysis"
   ]
  },
  {
   "cell_type": "code",
   "execution_count": 68,
   "metadata": {},
   "outputs": [],
   "source": [
    "combined_total_df = pd.concat([S1_2023_total_df, S2_2023_total_df], ignore_index=True)\n",
    "\n",
    "# Convert all relevant columns to numeric types, handling non-numeric values\n",
    "combined_total_df['Goals'] = pd.to_numeric(combined_total_df['Goals'], errors='coerce')\n",
    "combined_total_df['Assists'] = pd.to_numeric(combined_total_df['Assists'], errors='coerce')\n",
    "combined_total_df['Matches Played'] = pd.to_numeric(combined_total_df['Matches Played'], errors='coerce')\n",
    "\n",
    "# Replace zeros in 'Matches Played' with NaN to avoid division by zero\n",
    "combined_total_df['Matches Played'].replace(0, np.nan, inplace=True)\n",
    "\n",
    "# Use np.divide to safely calculate 'Goals per Match' and 'Assists per Match'\n",
    "combined_total_df['Goals per Match'] = np.divide(combined_total_df['Goals'], combined_total_df['Matches Played'])\n",
    "combined_total_df['Assists per Match'] = np.divide(combined_total_df['Assists'], combined_total_df['Matches Played'])\n",
    "\n",
    "# Replace NaNs with zeros after division if that makes sense for your context\n",
    "combined_total_df.fillna(0, inplace=True)\n"
   ]
  },
  {
   "cell_type": "code",
   "execution_count": null,
   "metadata": {},
   "outputs": [],
   "source": []
  },
  {
   "cell_type": "code",
   "execution_count": null,
   "metadata": {},
   "outputs": [],
   "source": []
  },
  {
   "cell_type": "code",
   "execution_count": null,
   "metadata": {},
   "outputs": [],
   "source": []
  },
  {
   "cell_type": "code",
   "execution_count": null,
   "metadata": {},
   "outputs": [],
   "source": []
  }
 ],
 "metadata": {
  "kernelspec": {
   "display_name": "Python 3",
   "language": "python",
   "name": "python3"
  },
  "language_info": {
   "codemirror_mode": {
    "name": "ipython",
    "version": 3
   },
   "file_extension": ".py",
   "mimetype": "text/x-python",
   "name": "python",
   "nbconvert_exporter": "python",
   "pygments_lexer": "ipython3",
   "version": "3.8.5"
  }
 },
 "nbformat": 4,
 "nbformat_minor": 4
}
