{
 "cells": [
  {
   "cell_type": "code",
   "execution_count": 2,
   "metadata": {},
   "outputs": [
    {
     "name": "stdout",
     "output_type": "stream",
     "text": [
      "Failed to retrieve the webpage\n"
     ]
    }
   ],
   "source": [
    "# Import the necessary libraries\n",
    "import requests\n",
    "from bs4 import BeautifulSoup\n",
    "\n",
    "# URL of the page you want to scrape\n",
    "url = 'https://www.uefa.com/uefachampionsleague/statistics/players/'\n",
    "\n",
    "# Perform an HTTP GET request to get the page content\n",
    "response = requests.get(url)\n",
    "\n",
    "# Check if the request was successful\n",
    "if response.status_code == 200:\n",
    "    # Parse the content with BeautifulSoup\n",
    "    soup = BeautifulSoup(response.content, 'html.parser')\n",
    "    \n",
    "    # Now you can find the data you're interested in with BeautifulSoup methods\n",
    "    # For example, to find all the 'a' tags in the HTML:\n",
    "    links = soup.find_all('a')\n",
    "    \n",
    "    # Print out the first few to check them\n",
    "    for link in links[:10]:\n",
    "        print(link.get('href'))\n",
    "    \n",
    "    # You would continue by finding the specific elements that contain the data you want,\n",
    "    # extracting and cleaning the data, and then possibly storing it in a pandas DataFrame.\n",
    "else:\n",
    "    print('Failed to retrieve the webpage')\n"
   ]
  },
  {
   "cell_type": "code",
   "execution_count": null,
   "metadata": {},
   "outputs": [],
   "source": []
  }
 ],
 "metadata": {
  "kernelspec": {
   "display_name": "Python 3",
   "language": "python",
   "name": "python3"
  },
  "language_info": {
   "codemirror_mode": {
    "name": "ipython",
    "version": 3
   },
   "file_extension": ".py",
   "mimetype": "text/x-python",
   "name": "python",
   "nbconvert_exporter": "python",
   "pygments_lexer": "ipython3",
   "version": "3.8.5"
  }
 },
 "nbformat": 4,
 "nbformat_minor": 4
}
