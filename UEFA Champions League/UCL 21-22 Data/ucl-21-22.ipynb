{
 "cells": [
  {
   "cell_type": "markdown",
   "metadata": {},
   "source": [
    "## Loading Datasets In"
   ]
  },
  {
   "cell_type": "code",
   "execution_count": 19,
   "metadata": {},
   "outputs": [],
   "source": [
    "import pandas as pd\n",
    "import matplotlib.pyplot as plt\n",
    "\n",
    "attacking_df = pd.read_csv('attacking.csv')\n",
    "attempts_df = pd.read_csv('attempts.csv')\n",
    "defending_df = pd.read_csv('defending.csv')\n",
    "disciplinary_df = pd.read_csv('disciplinary.csv')\n",
    "distribution_df = pd.read_csv('distribution.csv')\n",
    "goals_df = pd.read_csv('goals.csv')\n",
    "key_stats_df = pd.read_csv('key_stats.csv')"
   ]
  },
  {
   "cell_type": "markdown",
   "metadata": {},
   "source": [
    "## Understanding the Data"
   ]
  },
  {
   "cell_type": "code",
   "execution_count": 20,
   "metadata": {},
   "outputs": [
    {
     "name": "stdout",
     "output_type": "stream",
     "text": [
      "serial          0\n",
      "player_name     0\n",
      "club            0\n",
      "position        0\n",
      "assists         0\n",
      "corner_taken    0\n",
      "offsides        0\n",
      "dribbles        0\n",
      "match_played    0\n",
      "dtype: int64\n",
      "serial            0\n",
      "player_name       0\n",
      "club              0\n",
      "position          0\n",
      "total_attempts    0\n",
      "on_target         0\n",
      "off_target        0\n",
      "blocked           0\n",
      "match_played      0\n",
      "dtype: int64\n",
      "serial                 0\n",
      "player_name            0\n",
      "club                   0\n",
      "position               0\n",
      "balls_recoverd         0\n",
      "tackles                0\n",
      "t_won                  0\n",
      "t_lost                 0\n",
      "clearance_attempted    0\n",
      "match_played           0\n",
      "dtype: int64\n",
      "serial             0\n",
      "player_name        0\n",
      "club               0\n",
      "position           0\n",
      "fouls_committed    0\n",
      "fouls_suffered     0\n",
      "red                0\n",
      "yellow             0\n",
      "minutes_played     0\n",
      "match_played       0\n",
      "dtype: int64\n",
      "serial             0\n",
      "player_name        0\n",
      "club               0\n",
      "position           0\n",
      "pass_accuracy      0\n",
      "pass_attempted     0\n",
      "pass_completed     0\n",
      "cross_accuracy     0\n",
      "cross_attempted    0\n",
      "cross_complted     0\n",
      "freekicks_taken    0\n",
      "match_played       0\n",
      "dtype: int64\n",
      "serial           0\n",
      "player_name      0\n",
      "club             0\n",
      "position         0\n",
      "goals            0\n",
      "right_foot       0\n",
      "left_foot        0\n",
      "headers          0\n",
      "others           0\n",
      "inside_area      0\n",
      "outside_areas    0\n",
      "penalties        0\n",
      "match_played     0\n",
      "dtype: int64\n",
      "player_name         0\n",
      "club                0\n",
      "position            0\n",
      "minutes_played      0\n",
      "match_played        0\n",
      "goals               0\n",
      "assists             0\n",
      "distance_covered    0\n",
      "dtype: int64\n",
      "serial           int64\n",
      "player_name     object\n",
      "club            object\n",
      "position        object\n",
      "assists          int64\n",
      "corner_taken     int64\n",
      "offsides         int64\n",
      "dribbles         int64\n",
      "match_played     int64\n",
      "dtype: object\n",
      "serial             int64\n",
      "player_name       object\n",
      "club              object\n",
      "position          object\n",
      "total_attempts     int64\n",
      "on_target          int64\n",
      "off_target         int64\n",
      "blocked            int64\n",
      "match_played       int64\n",
      "dtype: object\n",
      "serial                  int64\n",
      "player_name            object\n",
      "club                   object\n",
      "position               object\n",
      "balls_recoverd          int64\n",
      "tackles                 int64\n",
      "t_won                   int64\n",
      "t_lost                  int64\n",
      "clearance_attempted     int64\n",
      "match_played            int64\n",
      "dtype: object\n",
      "serial              int64\n",
      "player_name        object\n",
      "club               object\n",
      "position           object\n",
      "fouls_committed     int64\n",
      "fouls_suffered      int64\n",
      "red                 int64\n",
      "yellow              int64\n",
      "minutes_played      int64\n",
      "match_played        int64\n",
      "dtype: object\n",
      "serial               int64\n",
      "player_name         object\n",
      "club                object\n",
      "position            object\n",
      "pass_accuracy      float64\n",
      "pass_attempted       int64\n",
      "pass_completed       int64\n",
      "cross_accuracy       int64\n",
      "cross_attempted      int64\n",
      "cross_complted       int64\n",
      "freekicks_taken      int64\n",
      "match_played         int64\n",
      "dtype: object\n",
      "serial            int64\n",
      "player_name      object\n",
      "club             object\n",
      "position         object\n",
      "goals             int64\n",
      "right_foot        int64\n",
      "left_foot         int64\n",
      "headers           int64\n",
      "others            int64\n",
      "inside_area       int64\n",
      "outside_areas     int64\n",
      "penalties         int64\n",
      "match_played      int64\n",
      "dtype: object\n",
      "player_name         object\n",
      "club                object\n",
      "position            object\n",
      "minutes_played       int64\n",
      "match_played         int64\n",
      "goals                int64\n",
      "assists              int64\n",
      "distance_covered    object\n",
      "dtype: object\n",
      "           serial     assists  corner_taken    offsides    dribbles  \\\n",
      "count  176.000000  176.000000    176.000000  176.000000  176.000000   \n",
      "mean    47.613636    1.596591      3.340909    1.420455    8.982955   \n",
      "std     22.527916    1.042957      6.266257    2.246122   11.190034   \n",
      "min      1.000000    1.000000      0.000000    0.000000    0.000000   \n",
      "25%     24.000000    1.000000      0.000000    0.000000    2.000000   \n",
      "50%     64.000000    1.000000      0.000000    0.000000    5.000000   \n",
      "75%     64.000000    2.000000      4.250000    2.000000   12.000000   \n",
      "max     64.000000    7.000000     36.000000   10.000000   83.000000   \n",
      "\n",
      "       match_played  \n",
      "count    176.000000  \n",
      "mean       6.988636  \n",
      "std        2.563454  \n",
      "min        1.000000  \n",
      "25%        5.000000  \n",
      "50%        6.500000  \n",
      "75%        8.000000  \n",
      "max       13.000000  \n",
      "           serial  total_attempts   on_target  off_target     blocked  \\\n",
      "count  546.000000      546.000000  546.000000  546.000000  546.000000   \n",
      "mean   244.144689        5.653846    1.967033    2.241758    1.445055   \n",
      "std    138.239810        6.119540    2.950169    2.302009    1.895844   \n",
      "min      1.000000        1.000000    0.000000    0.000000    0.000000   \n",
      "25%    130.000000        2.000000    0.000000    1.000000    0.000000   \n",
      "50%    219.000000        4.000000    1.000000    1.000000    1.000000   \n",
      "75%    347.000000        7.000000    2.000000    3.000000    2.000000   \n",
      "max    440.000000       45.000000   23.000000   13.000000   11.000000   \n",
      "\n",
      "       match_played  \n",
      "count    546.000000  \n",
      "mean       5.749084  \n",
      "std        2.511852  \n",
      "min        1.000000  \n",
      "25%        4.000000  \n",
      "50%        6.000000  \n",
      "75%        7.000000  \n",
      "max       13.000000  \n",
      "           serial  balls_recoverd     tackles       t_won      t_lost  \\\n",
      "count  627.000000      627.000000  627.000000  627.000000  627.000000   \n",
      "mean   304.298246       16.406699    4.732057    2.068581    2.663477   \n",
      "std    174.780489       14.760673    5.012920    2.607452    2.915200   \n",
      "min      1.000000        1.000000    0.000000    0.000000    0.000000   \n",
      "25%    154.500000        5.000000    1.000000    0.000000    1.000000   \n",
      "50%    300.000000       12.000000    3.000000    1.000000    2.000000   \n",
      "75%    448.000000       24.500000    7.000000    3.000000    4.000000   \n",
      "max    578.000000       76.000000   35.000000   18.000000   19.000000   \n",
      "\n",
      "       clearance_attempted  match_played  \n",
      "count           627.000000    627.000000  \n",
      "mean              6.314195      5.472089  \n",
      "std               8.458044      2.548652  \n",
      "min               0.000000      1.000000  \n",
      "25%               1.000000      4.000000  \n",
      "50%               3.000000      5.000000  \n",
      "75%               8.000000      7.000000  \n",
      "max              62.000000     13.000000  \n",
      "           serial  fouls_committed  fouls_suffered         red      yellow  \\\n",
      "count  584.000000       584.000000      584.000000  584.000000  584.000000   \n",
      "mean   261.876712         4.960616        4.525685    0.842466    0.042808   \n",
      "std    154.692375         3.774995        4.247815    0.933011    0.210895   \n",
      "min      1.000000         1.000000        0.000000    0.000000    0.000000   \n",
      "25%    146.000000         2.000000        1.000000    0.000000    0.000000   \n",
      "50%    263.000000         4.000000        3.000000    1.000000    0.000000   \n",
      "75%    417.000000         6.000000        7.000000    1.000000    0.000000   \n",
      "max    491.000000        23.000000       24.000000    4.000000    2.000000   \n",
      "\n",
      "       minutes_played  match_played  \n",
      "count      584.000000    584.000000  \n",
      "mean       374.214041      5.690068  \n",
      "std        230.626235      2.467248  \n",
      "min          4.000000      1.000000  \n",
      "25%        193.500000      4.000000  \n",
      "50%        349.500000      5.500000  \n",
      "75%        520.750000      7.000000  \n",
      "max       1199.000000     13.000000  \n",
      "           serial  pass_accuracy  pass_attempted  pass_completed  \\\n",
      "count  608.000000     608.000000      608.000000      608.000000   \n",
      "mean   303.110197      80.881086      196.628289      167.337171   \n",
      "std    176.049031      10.032026      148.231241      135.014856   \n",
      "min      1.000000      35.700000        9.000000        7.000000   \n",
      "25%    142.000000      76.100000       86.750000       68.750000   \n",
      "50%    304.000000      83.100000      162.500000      133.500000   \n",
      "75%    456.000000      88.000000      259.750000      222.000000   \n",
      "max    608.000000      98.000000      814.000000      760.000000   \n",
      "\n",
      "       cross_accuracy  cross_attempted  cross_complted  freekicks_taken  \\\n",
      "count      608.000000       608.000000      608.000000       608.000000   \n",
      "mean        16.876645         6.355263        1.705592         5.472039   \n",
      "std         22.747585         9.401993        3.073054         6.898359   \n",
      "min          0.000000         0.000000        0.000000         0.000000   \n",
      "25%          0.000000         0.000000        0.000000         1.000000   \n",
      "50%          0.000000         3.000000        0.000000         3.000000   \n",
      "75%         29.000000         9.000000        2.000000         8.000000   \n",
      "max        100.000000        81.000000       24.000000        53.000000   \n",
      "\n",
      "       match_played  \n",
      "count    608.000000  \n",
      "mean       5.805921  \n",
      "std        2.481928  \n",
      "min        1.000000  \n",
      "25%        4.000000  \n",
      "50%        6.000000  \n",
      "75%        7.000000  \n",
      "max       13.000000  \n",
      "           serial       goals  right_foot   left_foot     headers      others  \\\n",
      "count  183.000000  183.000000  183.000000  183.000000  183.000000  183.000000   \n",
      "mean    55.016393    2.021858    0.972678    0.693989    0.327869    0.021858   \n",
      "std     24.173929    2.005367    1.400281    1.140810    0.612722    0.146621   \n",
      "min      1.000000    1.000000    0.000000    0.000000    0.000000    0.000000   \n",
      "25%     43.000000    1.000000    0.000000    0.000000    0.000000    0.000000   \n",
      "50%     73.000000    1.000000    1.000000    0.000000    0.000000    0.000000   \n",
      "75%     73.000000    2.000000    1.000000    1.000000    1.000000    0.000000   \n",
      "max     73.000000   15.000000   11.000000    8.000000    3.000000    1.000000   \n",
      "\n",
      "       inside_area  outside_areas   penalties  match_played  \n",
      "count   183.000000     183.000000  183.000000    183.000000  \n",
      "mean      1.814208       0.207650    0.196721      6.841530  \n",
      "std       1.923943       0.514137    0.549315      2.568196  \n",
      "min       0.000000       0.000000    0.000000      1.000000  \n",
      "25%       1.000000       0.000000    0.000000      5.000000  \n",
      "50%       1.000000       0.000000    0.000000      6.000000  \n",
      "75%       2.000000       0.000000    0.000000      8.000000  \n",
      "max      13.000000       3.000000    3.000000     13.000000  \n",
      "       minutes_played  match_played       goals     assists\n",
      "count       747.00000    747.000000  747.000000  747.000000\n",
      "mean        331.61178      5.089692    0.492637    0.376171\n",
      "std         248.37193      2.721425    1.313321    0.845502\n",
      "min           1.00000      1.000000    0.000000    0.000000\n",
      "25%         116.00000      3.000000    0.000000    0.000000\n",
      "50%         301.00000      5.000000    0.000000    0.000000\n",
      "75%         492.00000      7.000000    0.000000    0.000000\n",
      "max        1230.00000     13.000000   15.000000    7.000000\n"
     ]
    }
   ],
   "source": [
    "# Check for missing values\n",
    "print(attacking_df.isnull().sum())\n",
    "print(attempts_df.isnull().sum())\n",
    "print(defending_df.isnull().sum())\n",
    "print(disciplinary_df.isnull().sum())\n",
    "print(distribution_df.isnull().sum())\n",
    "print(goals_df.isnull().sum())\n",
    "print(key_stats_df.isnull().sum())\n",
    "\n",
    "# Understand data types\n",
    "print(attacking_df.dtypes)\n",
    "print(attempts_df.dtypes)\n",
    "print(defending_df.dtypes)\n",
    "print(disciplinary_df.dtypes)\n",
    "print(distribution_df.dtypes)\n",
    "print(goals_df.dtypes)\n",
    "print(key_stats_df.dtypes)\n",
    "\n",
    "# Get summary statistics\n",
    "print(attacking_df.describe())\n",
    "print(attempts_df.describe())\n",
    "print(defending_df.describe())\n",
    "print(disciplinary_df.describe())\n",
    "print(distribution_df.describe())\n",
    "print(goals_df.describe())\n",
    "print(key_stats_df.describe())\n"
   ]
  },
  {
   "cell_type": "code",
   "execution_count": 21,
   "metadata": {},
   "outputs": [
    {
     "name": "stdout",
     "output_type": "stream",
     "text": [
      "2\n"
     ]
    }
   ],
   "source": [
    "# Convert distance_covered to numeric, coercing errors to NaN\n",
    "key_stats_df['distance_covered'] = pd.to_numeric(key_stats_df['distance_covered'], errors='coerce')\n",
    "\n",
    "# Check if any values were converted to NaN\n",
    "print(key_stats_df['distance_covered'].isnull().sum())\n",
    "\n",
    "# If there are any NaNs, decide on a method to handle them. For example, you could fill them with the median:\n",
    "# key_stats_df['distance_covered'].fillna(key_stats_df['distance_covered'].median(), inplace=True)\n"
   ]
  },
  {
   "cell_type": "code",
   "execution_count": 22,
   "metadata": {},
   "outputs": [
    {
     "name": "stdout",
     "output_type": "stream",
     "text": [
      "Index(['serial', 'player_name', 'club', 'position', 'assists_x',\n",
      "       'corner_taken', 'offsides', 'dribbles', 'match_played_x',\n",
      "       'minutes_played', 'match_played_y', 'goals', 'assists_y',\n",
      "       'distance_covered', 'total_attempts', 'balls_recoverd', 't_won',\n",
      "       'fouls_committed', 'fouls_suffered', 'red', 'yellow', 'pass_completed',\n",
      "       'pass_attempted'],\n",
      "      dtype='object')\n"
     ]
    }
   ],
   "source": [
    "# Example of merging the attacking_df with key_stats_df on 'player_name', 'club', and 'position'\n",
    "combined_df = pd.merge(attacking_df, key_stats_df, on=['player_name', 'club', 'position'], how='inner')\n",
    "\n",
    "# Merging attempts data\n",
    "combined_df = pd.merge(combined_df, attempts_df[['player_name', 'club', 'position', 'total_attempts']], on=['player_name', 'club', 'position'], how='left')\n",
    "\n",
    "# Merging defending data\n",
    "combined_df = pd.merge(combined_df, defending_df[['player_name', 'club', 'position', 'balls_recoverd', 't_won']], on=['player_name', 'club', 'position'], how='left')\n",
    "\n",
    "# Merging disciplinary data\n",
    "combined_df = pd.merge(combined_df, disciplinary_df[['player_name', 'club', 'position', 'fouls_committed', 'fouls_suffered', 'red', 'yellow']], on=['player_name', 'club', 'position'], how='left')\n",
    "\n",
    "# Merging distribution data\n",
    "combined_df = pd.merge(combined_df, distribution_df[['player_name', 'club', 'position', 'pass_completed', 'pass_attempted']], on=['player_name', 'club', 'position'], how='left')\n",
    "\n",
    "# Check the columns of the updated combined_df\n",
    "print(combined_df.columns)\n",
    "\n"
   ]
  },
  {
   "cell_type": "code",
   "execution_count": 23,
   "metadata": {},
   "outputs": [],
   "source": [
    "# Fill NaN values with the median\n",
    "key_stats_df['distance_covered'].fillna(key_stats_df['distance_covered'].median(), inplace=True)\n"
   ]
  },
  {
   "cell_type": "code",
   "execution_count": 24,
   "metadata": {},
   "outputs": [],
   "source": [
    "# Rename columns to be more descriptive\n",
    "combined_df.rename(columns={'assists_x': 'assists', \n",
    "                            'match_played_x': 'matches_played_attacking',\n",
    "                            'match_played_y': 'matches_played_key_stats',\n",
    "                            'goals': 'goals_key_stats', \n",
    "                            'assists_y': 'assists_key_stats'}, inplace=True)\n"
   ]
  },
  {
   "cell_type": "markdown",
   "metadata": {},
   "source": [
    "## Identify the Most Influential Players"
   ]
  },
  {
   "cell_type": "code",
   "execution_count": 25,
   "metadata": {},
   "outputs": [],
   "source": [
    "combined_df['influence_score'] = (combined_df['assists'] + combined_df['goals_key_stats']) / combined_df['minutes_played']\n"
   ]
  },
  {
   "cell_type": "code",
   "execution_count": 26,
   "metadata": {},
   "outputs": [
    {
     "name": "stdout",
     "output_type": "stream",
     "text": [
      "         player_name         club    position  influence_score\n",
      "174         Stanišić       Bayern    Defender         0.047619\n",
      "175         Bernardo     Salzburg    Defender         0.043478\n",
      "165            Novoa      Leipzig  Midfielder         0.041667\n",
      "158    Al. Miranchuk     Atalanta     Forward         0.030303\n",
      "52            Werner      Chelsea     Forward         0.024390\n",
      "20       Lewandowski       Bayern     Forward         0.018265\n",
      "33   Pedro Gonçalves  Sporting CP  Midfielder         0.018237\n",
      "104           Haller         Ajax     Forward         0.017964\n",
      "88            Dybala     Juventus     Forward         0.015686\n",
      "2               Sané       Bayern  Midfielder         0.015038\n"
     ]
    }
   ],
   "source": [
    "# Sort by influence score\n",
    "influential_players = combined_df.sort_values(by='influence_score', ascending=False)\n",
    "\n",
    "# Display top 10 influential players\n",
    "print(influential_players[['player_name', 'club', 'position', 'influence_score']].head(10))\n"
   ]
  },
  {
   "cell_type": "markdown",
   "metadata": {},
   "source": [
    "## Goal Conversion Rate"
   ]
  },
  {
   "cell_type": "code",
   "execution_count": 27,
   "metadata": {},
   "outputs": [
    {
     "name": "stdout",
     "output_type": "stream",
     "text": [
      "         player_name         club    position  conversion_rate\n",
      "104           Haller         Ajax     Forward         0.458333\n",
      "20       Lewandowski       Bayern     Forward         0.419355\n",
      "86           Benzema  Real Madrid     Forward         0.333333\n",
      "43         Griezmann     Atlético     Forward         0.333333\n",
      "33   Pedro Gonçalves  Sporting CP  Midfielder         0.307692\n",
      "13            Müller       Bayern     Forward         0.285714\n",
      "88            Dybala     Juventus     Forward         0.250000\n",
      "89           Vanaken  Club Brugge  Midfielder         0.250000\n",
      "40           Danjuma   Villarreal  Midfielder         0.240000\n",
      "97              Mané    Liverpool  Midfielder         0.238095\n"
     ]
    }
   ],
   "source": [
    "# Assuming 'total_attempts' is available from the attempts_df and it is already merged with other data\n",
    "combined_df['conversion_rate'] = combined_df['goals_key_stats'] / combined_df['total_attempts']\n",
    "\n",
    "# Display top 10 players with the best conversion rates (minimum 10 shots)\n",
    "top_conversion_rates = combined_df[combined_df['total_attempts'] > 10].sort_values(by='conversion_rate', ascending=False)\n",
    "print(top_conversion_rates[['player_name', 'club', 'position', 'conversion_rate']].head(10))\n"
   ]
  },
  {
   "cell_type": "markdown",
   "metadata": {},
   "source": [
    "## Defensive Actions"
   ]
  },
  {
   "cell_type": "code",
   "execution_count": 28,
   "metadata": {},
   "outputs": [
    {
     "name": "stdout",
     "output_type": "stream",
     "text": [
      "          player_name         club    position  defensive_score\n",
      "166      Thiago Silva      Chelsea    Defender             69.0\n",
      "113          Van Dijk    Liverpool    Defender             64.0\n",
      "10             Capoue   Villarreal  Midfielder             63.0\n",
      "21       João Cancelo    Man. City    Defender             62.0\n",
      "112            Pavard       Bayern    Defender             62.0\n",
      "145        Vertonghen      Benfica    Defender             57.0\n",
      "118          Carvajal  Real Madrid    Defender             56.0\n",
      "11             Parejo   Villarreal  Midfielder             56.0\n",
      "147          Martínez         Ajax    Defender             55.0\n",
      "4    Alexander-Arnold    Liverpool    Defender             51.0\n"
     ]
    }
   ],
   "source": [
    "# Assuming the defending data is also merged into combined_df\n",
    "combined_df['defensive_score'] = combined_df['balls_recoverd'] + combined_df['t_won']\n",
    "\n",
    "# Display top 10 defenders by defensive score\n",
    "top_defenders = combined_df.sort_values(by='defensive_score', ascending=False)\n",
    "print(top_defenders[['player_name', 'club', 'position', 'defensive_score']].head(10))\n"
   ]
  },
  {
   "cell_type": "markdown",
   "metadata": {},
   "source": [
    "## Player Discipline"
   ]
  },
  {
   "cell_type": "code",
   "execution_count": 29,
   "metadata": {},
   "outputs": [
    {
     "name": "stdout",
     "output_type": "stream",
     "text": [
      "      player_name         club    position  discipline_score\n",
      "63        Seiwald     Salzburg  Midfielder              22.0\n",
      "118      Carvajal  Real Madrid    Defender              18.0\n",
      "83         Milner    Liverpool  Midfielder              17.0\n",
      "51          Ikoné         LOSC  Midfielder              16.0\n",
      "21   João Cancelo    Man. City    Defender              16.0\n",
      "100         Jesus    Man. City     Forward              15.0\n",
      "109    Kristensen     Salzburg    Defender              13.0\n",
      "10         Capoue   Villarreal  Midfielder              12.0\n",
      "99     Diogo Jota    Liverpool     Forward              11.0\n",
      "150         Hefti   Young Boys    Defender              11.0\n"
     ]
    }
   ],
   "source": [
    "combined_df['discipline_score'] = combined_df['fouls_committed'] - combined_df['fouls_suffered'] + (combined_df['red'] * 3 + combined_df['yellow'])\n",
    "# Display top 10 players with the worst discipline scores\n",
    "worst_discipline = combined_df.sort_values(by='discipline_score', ascending=False)\n",
    "print(worst_discipline[['player_name', 'club', 'position', 'discipline_score']].head(10))\n"
   ]
  },
  {
   "cell_type": "markdown",
   "metadata": {},
   "source": [
    "## Passing Efficiency"
   ]
  },
  {
   "cell_type": "code",
   "execution_count": 30,
   "metadata": {},
   "outputs": [
    {
     "name": "stdout",
     "output_type": "stream",
     "text": [
      "        player_name              club    position  pass_efficiency\n",
      "166    Thiago Silva           Chelsea    Defender         0.940692\n",
      "147        Martínez              Ajax    Defender         0.939169\n",
      "160     Christensen           Chelsea    Defender         0.936594\n",
      "167      Marquinhos             Paris    Defender         0.933202\n",
      "17   Bernardo Silva         Man. City  Midfielder         0.924242\n",
      "47         Jorginho           Chelsea  Midfielder         0.919075\n",
      "173        Kryvtsov  Shakhtar Donetsk    Defender         0.916168\n",
      "163          Danilo          Juventus    Defender         0.914365\n",
      "113        Van Dijk         Liverpool    Defender         0.913043\n",
      "57            Mendy       Real Madrid    Defender         0.910412\n"
     ]
    }
   ],
   "source": [
    "combined_df['pass_efficiency'] = combined_df['pass_completed'] / combined_df['pass_attempted']\n",
    "\n",
    "# Display top 10 players by pass efficiency (minimum 50 passes attempted)\n",
    "most_efficient_passers = combined_df[combined_df['pass_attempted'] > 50].sort_values(by='pass_efficiency', ascending=False)\n",
    "print(most_efficient_passers[['player_name', 'club', 'position', 'pass_efficiency']].head(10))\n"
   ]
  },
  {
   "cell_type": "markdown",
   "metadata": {},
   "source": [
    "## Clustering Players Based on Performance"
   ]
  },
  {
   "cell_type": "code",
   "execution_count": 31,
   "metadata": {},
   "outputs": [
    {
     "name": "stdout",
     "output_type": "stream",
     "text": [
      "        player_name goals_category assists_category attempts_category\n",
      "0   Bruno Fernandes            Low             High            Medium\n",
      "1   Vinícius Júnior         Medium             High            Medium\n",
      "2              Sané           High             High              High\n",
      "3            Antony         Medium           Medium            Medium\n",
      "4  Alexander-Arnold            Low           Medium            Medium\n"
     ]
    }
   ],
   "source": [
    "# Define bins manually based on your data's distribution\n",
    "goal_bins = [-1, 1, 5, 15]  # Adjust based on actual distribution; -1 includes 0 in the first bin\n",
    "assist_bins = [-1, 1, 5, 20]  # These are hypothetical; adjust as needed\n",
    "attempt_bins = [-1, 10, 30, 100]  # These are hypothetical; adjust as needed\n",
    "\n",
    "# Using pd.cut for goals, assists, and total attempts\n",
    "combined_df['goals_category'] = pd.cut(combined_df['goals_key_stats'], bins=goal_bins, labels=['Low', 'Medium', 'High'])\n",
    "combined_df['assists_category'] = pd.cut(combined_df['assists'], bins=assist_bins, labels=['Low', 'Medium', 'High'])\n",
    "combined_df['attempts_category'] = pd.cut(combined_df['total_attempts'], bins=attempt_bins, labels=['Low', 'Medium', 'High'])\n",
    "\n",
    "# Display the new categories\n",
    "print(combined_df[['player_name', 'goals_category', 'assists_category', 'attempts_category']].head())\n",
    "\n"
   ]
  },
  {
   "cell_type": "markdown",
   "metadata": {},
   "source": [
    "## Performance Profile Analysis\n"
   ]
  },
  {
   "cell_type": "code",
   "execution_count": 32,
   "metadata": {},
   "outputs": [
    {
     "name": "stdout",
     "output_type": "stream",
     "text": [
      "   goals_category assists_category attempts_category  Count\n",
      "0             Low              Low               Low     80\n",
      "3             Low           Medium               Low     25\n",
      "13         Medium           Medium            Medium     16\n",
      "10         Medium              Low            Medium     10\n",
      "4             Low           Medium            Medium      9\n",
      "1             Low              Low            Medium      7\n",
      "9          Medium              Low               Low      4\n",
      "12         Medium           Medium               Low      4\n",
      "23           High           Medium              High      3\n",
      "22           High           Medium            Medium      2\n",
      "26           High             High              High      1\n",
      "19           High              Low            Medium      1\n",
      "7             Low             High            Medium      1\n",
      "16         Medium             High            Medium      1\n",
      "20           High              Low              High      1\n",
      "25           High             High            Medium      0\n",
      "24           High             High               Low      0\n",
      "21           High           Medium               Low      0\n",
      "2             Low              Low              High      0\n",
      "18           High              Low               Low      0\n",
      "17         Medium             High              High      0\n",
      "14         Medium           Medium              High      0\n",
      "11         Medium              Low              High      0\n",
      "8             Low             High              High      0\n",
      "6             Low             High               Low      0\n",
      "5             Low           Medium              High      0\n",
      "15         Medium             High               Low      0\n"
     ]
    }
   ],
   "source": [
    "# Count the frequency of each combination of categories\n",
    "profile_counts = combined_df.groupby(['goals_category', 'assists_category', 'attempts_category']).size().reset_index(name='Count')\n",
    "\n",
    "# Display the profile counts sorted by the most common profiles\n",
    "profile_counts = profile_counts.sort_values(by='Count', ascending=False)\n",
    "print(profile_counts)\n"
   ]
  },
  {
   "cell_type": "markdown",
   "metadata": {},
   "source": [
    "## Visualisation of Performance Categories\n"
   ]
  },
  {
   "cell_type": "code",
   "execution_count": 33,
   "metadata": {},
   "outputs": [
    {
     "data": {
      "image/png": "[encoded data removed]",
      "text/plain": [
       "<Figure size 576x360 with 1 Axes>"
      ]
     },
     "metadata": {
      "needs_background": "light"
     },
     "output_type": "display_data"
    },
    {
     "data": {
      "image/png": "[encoded data removed]",
      "text/plain": [
       "<Figure size 576x360 with 1 Axes>"
      ]
     },
     "metadata": {
      "needs_background": "light"
     },
     "output_type": "display_data"
    },
    {
     "data": {
      "image/png": "[encoded data removed]",
      "text/plain": [
       "<Figure size 576x360 with 1 Axes>"
      ]
     },
     "metadata": {
      "needs_background": "light"
     },
     "output_type": "display_data"
    }
   ],
   "source": [
    "# Function to plot category distribution\n",
    "def plot_category_distribution(df, category, title):\n",
    "    plt.figure(figsize=(8, 5))\n",
    "    df[category].value_counts().plot(kind='bar', color='skyblue')\n",
    "    plt.title(title)\n",
    "    plt.xlabel('Category')\n",
    "    plt.ylabel('Number of Players')\n",
    "    plt.xticks(rotation=0)\n",
    "    plt.show()\n",
    "\n",
    "# Plot distribution for goals category\n",
    "plot_category_distribution(combined_df, 'goals_category', 'Distribution of Goals Category')\n",
    "\n",
    "# Plot distribution for assists category\n",
    "plot_category_distribution(combined_df, 'assists_category', 'Distribution of Assists Category')\n",
    "\n",
    "# Plot distribution for attempts category\n",
    "plot_category_distribution(combined_df, 'attempts_category', 'Distribution of Attempts Category')\n"
   ]
  },
  {
   "cell_type": "markdown",
   "metadata": {},
   "source": [
    "## Advanced Passing Metrics Analysis"
   ]
  },
  {
   "cell_type": "code",
   "execution_count": 34,
   "metadata": {},
   "outputs": [
    {
     "name": "stdout",
     "output_type": "stream",
     "text": [
      "        player_name         club  pass_completion_rate\n",
      "0   Bruno Fernandes  Man. United              0.771605\n",
      "1   Vinícius Júnior  Real Madrid              0.835920\n",
      "2              Sané       Bayern              0.869347\n",
      "3            Antony         Ajax              0.813665\n",
      "4  Alexander-Arnold    Liverpool              0.811679\n"
     ]
    }
   ],
   "source": [
    "# Calculate pass completion rate\n",
    "combined_df['pass_completion_rate'] = combined_df['pass_completed'] / combined_df['pass_attempted']\n",
    "\n",
    "# Display pass completion rate\n",
    "print(combined_df[['player_name', 'club', 'pass_completion_rate']].head())\n"
   ]
  },
  {
   "cell_type": "code",
   "execution_count": 35,
   "metadata": {},
   "outputs": [
    {
     "data": {
      "image/png": "[encoded data removed]",
      "text/plain": [
       "<Figure size 432x288 with 1 Axes>"
      ]
     },
     "metadata": {
      "needs_background": "light"
     },
     "output_type": "display_data"
    }
   ],
   "source": [
    "\n",
    "# Plot the distribution of pass completion rates\n",
    "plt.hist(combined_df['pass_completion_rate'].dropna(), bins=20, color='skyblue')\n",
    "plt.title('Distribution of Pass Completion Rates')\n",
    "plt.xlabel('Pass Completion Rate')\n",
    "plt.ylabel('Frequency')\n",
    "plt.show()\n"
   ]
  },
  {
   "cell_type": "markdown",
   "metadata": {},
   "source": [
    "## Top Players by Pass Attempts"
   ]
  },
  {
   "cell_type": "code",
   "execution_count": 36,
   "metadata": {},
   "outputs": [
    {
     "name": "stdout",
     "output_type": "stream",
     "text": [
      "          player_name         club  pass_attempted  pass_completed  \\\n",
      "6              Modrić  Real Madrid           799.0           723.0   \n",
      "4    Alexander-Arnold    Liverpool           685.0           556.0   \n",
      "112            Pavard       Bayern           676.0           613.0   \n",
      "147          Martínez         Ajax           674.0           633.0   \n",
      "21       João Cancelo    Man. City           668.0           586.0   \n",
      "113          Van Dijk    Liverpool           667.0           609.0   \n",
      "11             Parejo   Villarreal           657.0           560.0   \n",
      "24          Robertson    Liverpool           628.0           512.0   \n",
      "166      Thiago Silva      Chelsea           607.0           571.0   \n",
      "59          Henderson    Liverpool           602.0           530.0   \n",
      "\n",
      "     pass_completion_rate  \n",
      "6                0.904881  \n",
      "4                0.811679  \n",
      "112              0.906805  \n",
      "147              0.939169  \n",
      "21               0.877246  \n",
      "113              0.913043  \n",
      "11               0.852359  \n",
      "24               0.815287  \n",
      "166              0.940692  \n",
      "59               0.880399  \n"
     ]
    }
   ],
   "source": [
    "# Display top players by pass attempts\n",
    "top_passers = combined_df.sort_values(by='pass_attempted', ascending=False).head(10)\n",
    "print(top_passers[['player_name', 'club', 'pass_attempted', 'pass_completed', 'pass_completion_rate']])\n"
   ]
  },
  {
   "cell_type": "code",
   "execution_count": null,
   "metadata": {},
   "outputs": [],
   "source": []
  }
 ],
 "metadata": {
  "kernelspec": {
   "display_name": "Python 3",
   "language": "python",
   "name": "python3"
  },
  "language_info": {
   "codemirror_mode": {
    "name": "ipython",
    "version": 3
   },
   "file_extension": ".py",
   "mimetype": "text/x-python",
   "name": "python",
   "nbconvert_exporter": "python",
   "pygments_lexer": "ipython3",
   "version": "3.8.5"
  }
 },
 "nbformat": 4,
 "nbformat_minor": 4
}
